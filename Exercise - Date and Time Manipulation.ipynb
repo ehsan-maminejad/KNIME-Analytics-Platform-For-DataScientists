{
 "cells": [
  {
   "cell_type": "code",
   "execution_count": 1,
   "metadata": {},
   "outputs": [],
   "source": [
    "import pandas as pd"
   ]
  },
  {
   "cell_type": "code",
   "execution_count": 43,
   "metadata": {},
   "outputs": [
    {
     "data": {
      "text/html": [
       "<div>\n",
       "<style scoped>\n",
       "    .dataframe tbody tr th:only-of-type {\n",
       "        vertical-align: middle;\n",
       "    }\n",
       "\n",
       "    .dataframe tbody tr th {\n",
       "        vertical-align: top;\n",
       "    }\n",
       "\n",
       "    .dataframe thead th {\n",
       "        text-align: right;\n",
       "    }\n",
       "</style>\n",
       "<table border=\"1\" class=\"dataframe\">\n",
       "  <thead>\n",
       "    <tr style=\"text-align: right;\">\n",
       "      <th></th>\n",
       "      <th>id</th>\n",
       "      <th>name</th>\n",
       "      <th>host_id</th>\n",
       "      <th>host_name</th>\n",
       "      <th>neighbourhood_group</th>\n",
       "      <th>neighbourhood</th>\n",
       "      <th>latitude</th>\n",
       "      <th>longitude</th>\n",
       "      <th>room_type</th>\n",
       "      <th>price</th>\n",
       "      <th>minimum_nights</th>\n",
       "      <th>number_of_reviews</th>\n",
       "      <th>last_review</th>\n",
       "      <th>reviews_per_month</th>\n",
       "      <th>calculated_host_listings_count</th>\n",
       "      <th>availability_365</th>\n",
       "    </tr>\n",
       "  </thead>\n",
       "  <tbody>\n",
       "    <tr>\n",
       "      <th>0</th>\n",
       "      <td>2539.0</td>\n",
       "      <td>Clean &amp; quiet apt home by the park</td>\n",
       "      <td>2787.0</td>\n",
       "      <td>John</td>\n",
       "      <td>Brooklyn</td>\n",
       "      <td>Kensington</td>\n",
       "      <td>40.64749</td>\n",
       "      <td>-73.97237</td>\n",
       "      <td>Private room</td>\n",
       "      <td>149.0</td>\n",
       "      <td>1.0</td>\n",
       "      <td>9.0</td>\n",
       "      <td>2018-10-19T00:00</td>\n",
       "      <td>0.21</td>\n",
       "      <td>6.0</td>\n",
       "      <td>365.0</td>\n",
       "    </tr>\n",
       "    <tr>\n",
       "      <th>1</th>\n",
       "      <td>2595.0</td>\n",
       "      <td>Skylit Midtown Castle</td>\n",
       "      <td>2845.0</td>\n",
       "      <td>Jennifer</td>\n",
       "      <td>Manhattan</td>\n",
       "      <td>Midtown</td>\n",
       "      <td>40.75362</td>\n",
       "      <td>-73.98377</td>\n",
       "      <td>Entire home/apt</td>\n",
       "      <td>225.0</td>\n",
       "      <td>1.0</td>\n",
       "      <td>45.0</td>\n",
       "      <td>2019-05-21T00:00</td>\n",
       "      <td>0.38</td>\n",
       "      <td>2.0</td>\n",
       "      <td>355.0</td>\n",
       "    </tr>\n",
       "    <tr>\n",
       "      <th>2</th>\n",
       "      <td>5295.0</td>\n",
       "      <td>Beautiful 1br on Upper West Side</td>\n",
       "      <td>7702.0</td>\n",
       "      <td>Lena</td>\n",
       "      <td>Manhattan</td>\n",
       "      <td>Upper West Side</td>\n",
       "      <td>40.80316</td>\n",
       "      <td>-73.96545</td>\n",
       "      <td>Entire home/apt</td>\n",
       "      <td>135.0</td>\n",
       "      <td>5.0</td>\n",
       "      <td>53.0</td>\n",
       "      <td>2019-06-22T00:00</td>\n",
       "      <td>0.43</td>\n",
       "      <td>1.0</td>\n",
       "      <td>6.0</td>\n",
       "    </tr>\n",
       "    <tr>\n",
       "      <th>3</th>\n",
       "      <td>22918.0</td>\n",
       "      <td>loft bed - near transportation-15min to times sq</td>\n",
       "      <td>32294.0</td>\n",
       "      <td>Ssameer Or Trip</td>\n",
       "      <td>Manhattan</td>\n",
       "      <td>Harlem</td>\n",
       "      <td>40.82279</td>\n",
       "      <td>-73.95139</td>\n",
       "      <td>Private room</td>\n",
       "      <td>60.0</td>\n",
       "      <td>3.0</td>\n",
       "      <td>11.0</td>\n",
       "      <td>2019-01-03T00:00</td>\n",
       "      <td>0.87</td>\n",
       "      <td>3.0</td>\n",
       "      <td>219.0</td>\n",
       "    </tr>\n",
       "    <tr>\n",
       "      <th>4</th>\n",
       "      <td>403668.0</td>\n",
       "      <td>Gorgeous Sunny; Spacious 1 bdrm in East Village</td>\n",
       "      <td>2013117.0</td>\n",
       "      <td>Katya</td>\n",
       "      <td>Manhattan</td>\n",
       "      <td>East Village</td>\n",
       "      <td>40.72812</td>\n",
       "      <td>-73.97966</td>\n",
       "      <td>Entire home/apt</td>\n",
       "      <td>147.0</td>\n",
       "      <td>2.0</td>\n",
       "      <td>16.0</td>\n",
       "      <td>2019-01-02T00:00</td>\n",
       "      <td>0.18</td>\n",
       "      <td>1.0</td>\n",
       "      <td>0.0</td>\n",
       "    </tr>\n",
       "  </tbody>\n",
       "</table>\n",
       "</div>"
      ],
      "text/plain": [
       "         id                                              name    host_id  \\\n",
       "0    2539.0                Clean & quiet apt home by the park     2787.0   \n",
       "1    2595.0                             Skylit Midtown Castle     2845.0   \n",
       "2    5295.0                  Beautiful 1br on Upper West Side     7702.0   \n",
       "3   22918.0  loft bed - near transportation-15min to times sq    32294.0   \n",
       "4  403668.0   Gorgeous Sunny; Spacious 1 bdrm in East Village  2013117.0   \n",
       "\n",
       "         host_name neighbourhood_group    neighbourhood  latitude  longitude  \\\n",
       "0             John            Brooklyn       Kensington  40.64749  -73.97237   \n",
       "1         Jennifer           Manhattan          Midtown  40.75362  -73.98377   \n",
       "2             Lena           Manhattan  Upper West Side  40.80316  -73.96545   \n",
       "3  Ssameer Or Trip           Manhattan           Harlem  40.82279  -73.95139   \n",
       "4            Katya           Manhattan     East Village  40.72812  -73.97966   \n",
       "\n",
       "         room_type  price  minimum_nights  number_of_reviews  \\\n",
       "0     Private room  149.0             1.0                9.0   \n",
       "1  Entire home/apt  225.0             1.0               45.0   \n",
       "2  Entire home/apt  135.0             5.0               53.0   \n",
       "3     Private room   60.0             3.0               11.0   \n",
       "4  Entire home/apt  147.0             2.0               16.0   \n",
       "\n",
       "        last_review  reviews_per_month  calculated_host_listings_count  \\\n",
       "0  2018-10-19T00:00               0.21                             6.0   \n",
       "1  2019-05-21T00:00               0.38                             2.0   \n",
       "2  2019-06-22T00:00               0.43                             1.0   \n",
       "3  2019-01-03T00:00               0.87                             3.0   \n",
       "4  2019-01-02T00:00               0.18                             1.0   \n",
       "\n",
       "   availability_365  \n",
       "0             365.0  \n",
       "1             355.0  \n",
       "2               6.0  \n",
       "3             219.0  \n",
       "4               0.0  "
      ]
     },
     "execution_count": 43,
     "metadata": {},
     "output_type": "execute_result"
    }
   ],
   "source": [
    "df = pd.read_csv(\"C:/Users/Ehsan/knime-workspace/L2-DS KNIME Analytics Platform for Data Scientists - Advanced/data/AB_NYC_2019.csv\",engine='python')\n",
    "df.head()"
   ]
  },
  {
   "cell_type": "code",
   "execution_count": 44,
   "metadata": {},
   "outputs": [],
   "source": [
    "# Define in which columns to look for missing values and remove rows with missing values\n",
    "df.dropna(subset=['last_review'],inplace=True)"
   ]
  },
  {
   "cell_type": "code",
   "execution_count": 32,
   "metadata": {},
   "outputs": [
    {
     "name": "stdout",
     "output_type": "stream",
     "text": [
      "<class 'pandas.core.frame.DataFrame'>\n",
      "Int64Index: 38843 entries, 0 to 49078\n",
      "Data columns (total 16 columns):\n",
      " #   Column                          Non-Null Count  Dtype  \n",
      "---  ------                          --------------  -----  \n",
      " 0   id                              38700 non-null  float64\n",
      " 1   name                            38837 non-null  object \n",
      " 2   host_id                         38843 non-null  float64\n",
      " 3   host_name                       38827 non-null  object \n",
      " 4   neighbourhood_group             38843 non-null  object \n",
      " 5   neighbourhood                   38843 non-null  object \n",
      " 6   latitude                        38843 non-null  float64\n",
      " 7   longitude                       38843 non-null  float64\n",
      " 8   room_type                       38843 non-null  object \n",
      " 9   price                           38843 non-null  float64\n",
      " 10  minimum_nights                  38843 non-null  float64\n",
      " 11  number_of_reviews               38843 non-null  float64\n",
      " 12  last_review                     38843 non-null  object \n",
      " 13  reviews_per_month               38843 non-null  float64\n",
      " 14  calculated_host_listings_count  38843 non-null  float64\n",
      " 15  availability_365                38843 non-null  float64\n",
      "dtypes: float64(10), object(6)\n",
      "memory usage: 5.0+ MB\n"
     ]
    }
   ],
   "source": [
    "df.info()"
   ]
  },
  {
   "cell_type": "code",
   "execution_count": 45,
   "metadata": {},
   "outputs": [],
   "source": [
    "# Convert to date and time and Remove Time values\n",
    "df[\"last_review\"] = pd.to_datetime(df['last_review'])"
   ]
  },
  {
   "cell_type": "code",
   "execution_count": 48,
   "metadata": {},
   "outputs": [],
   "source": [
    "# Extract the day of the week\n",
    "df[\"Day of Week\"] = df[\"last_review\"].dt.day_name()"
   ]
  },
  {
   "cell_type": "code",
   "execution_count": 78,
   "metadata": {},
   "outputs": [],
   "source": [
    "# Count the number of last reviews on each day of the week.\n",
    "df1 = df.groupby(df[\"Day of Week\"]).count().name.sort_values(ascending = False)"
   ]
  },
  {
   "cell_type": "code",
   "execution_count": 79,
   "metadata": {},
   "outputs": [
    {
     "data": {
      "text/plain": [
       "Day of Week\n",
       "Sunday       9382\n",
       "Monday       7175\n",
       "Saturday     5519\n",
       "Tuesday      4738\n",
       "Friday       4476\n",
       "Wednesday    3995\n",
       "Thursday     3552\n",
       "Name: name, dtype: int64"
      ]
     },
     "execution_count": 79,
     "metadata": {},
     "output_type": "execute_result"
    }
   ],
   "source": [
    "df1"
   ]
  },
  {
   "cell_type": "code",
   "execution_count": null,
   "metadata": {},
   "outputs": [],
   "source": []
  }
 ],
 "metadata": {
  "kernelspec": {
   "display_name": "Python 3",
   "language": "python",
   "name": "python3"
  },
  "language_info": {
   "codemirror_mode": {
    "name": "ipython",
    "version": 3
   },
   "file_extension": ".py",
   "mimetype": "text/x-python",
   "name": "python",
   "nbconvert_exporter": "python",
   "pygments_lexer": "ipython3",
   "version": "3.8.3"
  }
 },
 "nbformat": 4,
 "nbformat_minor": 4
}
